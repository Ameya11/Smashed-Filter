{
  "nbformat": 4,
  "nbformat_minor": 0,
  "metadata": {
    "colab": {
      "provenance": []
    },
    "kernelspec": {
      "name": "python3",
      "display_name": "Python 3"
    },
    "language_info": {
      "name": "python"
    }
  },
  "cells": [
    {
      "cell_type": "code",
      "execution_count": null,
      "metadata": {
        "id": "FFRMIxPTbSeK"
      },
      "outputs": [],
      "source": [
        "import pandas as pd\n",
        "import numpy as np\n",
        "from sklearn.model_selection import train_test_split\n",
        "from sklearn.metrics import accuracy_score\n",
        "from sklearn.model_selection import KFold\n",
        "from sklearn.decomposition import PCA"
      ]
    },
    {
      "cell_type": "code",
      "source": [
        "\n",
        "\n",
        "dataset = pd.read_csv('dataset.csv')\n",
        "X = dataset.iloc[:, :-1]\n",
        "y = dataset.iloc[:, -1]\n",
        "# print(np.unique(y))\n",
        "X_train, X_test, y_train, y_test = train_test_split(X, y, test_size=0.2, random_state=42)\n",
        "class_conditional_likelihoods = {}\n",
        "classes = y_train.unique()\n",
        "\n",
        "for class_label in classes:\n",
        "    class_conditional_likelihoods[class_label] = {}\n",
        "    X_class = X_train[y_train == class_label]\n",
        "    for feature in X_train.columns:\n",
        "        mean = X_class[feature].mean()\n",
        "        std = X_class[feature].std()\n",
        "        class_conditional_likelihoods[class_label][feature] = (mean, std)\n",
        "\n",
        "def predict(X):\n",
        "    predictions = []\n",
        "    for _, row in X.iterrows():\n",
        "        max_likelihood = -np.inf\n",
        "        predicted_class = None\n",
        "        for class_label in classes:\n",
        "            class_likelihood = 0\n",
        "            for feature, (mean, std) in class_conditional_likelihoods[class_label].items():\n",
        "                if std == 0:\n",
        "                    std = 1e-6  # to avoid division by 0\n",
        "                exponent = -(row[feature] - mean) ** 2 / (2 * std ** 2)\n",
        "                class_likelihood += np.log(1 / (np.sqrt(2 * np.pi) * std)) + exponent\n",
        "            if class_likelihood > max_likelihood:\n",
        "                max_likelihood = class_likelihood\n",
        "                predicted_class = class_label\n",
        "        predictions.append(predicted_class)\n",
        "    return predictions\n",
        "\n",
        "y_pred = predict(X_test)\n",
        "accuracy = accuracy_score(y_test, y_pred)\n",
        "print(\"Accuracy:\", accuracy)\n"
      ],
      "metadata": {
        "colab": {
          "base_uri": "https://localhost:8080/"
        },
        "id": "0pgfKkzOxbgO",
        "outputId": "85100736-8f24-4f24-a96b-75fee383187f"
      },
      "execution_count": null,
      "outputs": [
        {
          "output_type": "stream",
          "name": "stdout",
          "text": [
            "Accuracy: 0.9291666666666667\n"
          ]
        }
      ]
    },
    {
      "cell_type": "code",
      "source": [
        "\n",
        "def predict_one_instance(instance):\n",
        "    max_likelihood = -np.inf\n",
        "    predicted_class = None\n",
        "    for class_label in classes:\n",
        "        class_likelihood = 0\n",
        "        for feature, (mean, std) in class_conditional_likelihoods[class_label].items():\n",
        "            if std == 0:\n",
        "                std = 1e-6  # to avoid division by 0\n",
        "            exponent = -(instance[feature] - mean) ** 2 / (2 * std ** 2)\n",
        "            class_likelihood += np.log(1 / (np.sqrt(2 * np.pi) * std)) + exponent\n",
        "        if class_likelihood > max_likelihood:\n",
        "            max_likelihood = class_likelihood\n",
        "            predicted_class = class_label\n",
        "    return predicted_class\n",
        "\n",
        "x_input = X_test.iloc[0]\n",
        "predicted_output = predict_one_instance(x_input)\n",
        "actual_output = y_test.iloc[0]\n",
        "print(\"Predicted Output:\", predicted_output)\n",
        "print(\"Actual Output:\", actual_output)\n"
      ],
      "metadata": {
        "colab": {
          "base_uri": "https://localhost:8080/"
        },
        "id": "1l-nLY8QxwX5",
        "outputId": "00f9ab01-1f8b-4dc9-ec93-a793065fb09b"
      },
      "execution_count": null,
      "outputs": [
        {
          "output_type": "stream",
          "name": "stdout",
          "text": [
            "Predicted Output: vocal\n",
            "Actual Output: vocal\n"
          ]
        }
      ]
    },
    {
      "cell_type": "markdown",
      "source": [
        "PCA+K Fold cross validation"
      ],
      "metadata": {
        "id": "NwkTN24LHasK"
      }
    },
    {
      "cell_type": "code",
      "source": [
        "def predict(X, class_conditional_likelihoods):\n",
        "    predictions = []\n",
        "    for _, row in X.iterrows():\n",
        "        max_likelihood = -np.inf\n",
        "        predicted_class = None\n",
        "        for class_label in class_conditional_likelihoods.keys():\n",
        "            class_likelihood = 0\n",
        "            for feature, (mean, std) in class_conditional_likelihoods[class_label].items():\n",
        "                if std == 0:\n",
        "                    std = 1e-6  # to avoid division by 0\n",
        "                exponent = -(row[feature] - mean) ** 2 / (2 * std ** 2)\n",
        "                class_likelihood += np.log(1 / (np.sqrt(2 * np.pi) * std)) + exponent\n",
        "            if class_likelihood > max_likelihood:\n",
        "                max_likelihood = class_likelihood\n",
        "                predicted_class = class_label\n",
        "        predictions.append(predicted_class)\n",
        "    return predictions\n"
      ],
      "metadata": {
        "id": "-OCu-RxNFOdV"
      },
      "execution_count": null,
      "outputs": []
    },
    {
      "cell_type": "code",
      "source": [
        "min_components = 10  # Adjust as needed\n",
        "pca = PCA(n_components=min_components)\n",
        "X_train_pca = pca.fit_transform(X_train)\n",
        "X_test_pca = pca.transform(X_test)\n",
        "num_folds = 6\n",
        "kf = KFold(n_splits=num_folds, shuffle=True, random_state=42)\n",
        "cv_scores = []\n",
        "\n",
        "for train_index, val_index in kf.split(X_train):\n",
        "    X_train_fold, X_val_fold = X_train.iloc[train_index], X_train.iloc[val_index]\n",
        "    y_train_fold, y_val_fold = y_train.iloc[train_index], y_train.iloc[val_index]\n",
        "\n",
        "    # class-conditional likelihoods\n",
        "    class_conditional_likelihoods_fold = {}\n",
        "    classes_fold = y_train_fold.unique()\n",
        "    for class_label in classes_fold:\n",
        "        class_conditional_likelihoods_fold[class_label] = {}\n",
        "        X_class_fold = X_train_fold[y_train_fold == class_label]\n",
        "        for feature in X_train_fold.columns:\n",
        "            mean = X_class_fold[feature].mean()\n",
        "            std = X_class_fold[feature].std()\n",
        "            class_conditional_likelihoods_fold[class_label][feature] = (mean, std)\n",
        "\n",
        "    y_val_pred = predict(X_val_fold, class_conditional_likelihoods_fold)\n",
        "    accuracy_fold = accuracy_score(y_val_fold, y_val_pred)\n",
        "    cv_scores.append(accuracy_fold)\n",
        "\n",
        "print(\"Average Cross-Validation Accuracy:\", np.mean(cv_scores))\n",
        "print(\"Highest Cross-Validation Accuracy:\", np.max(cv_scores))"
      ],
      "metadata": {
        "id": "lUdHbbc2EB-h",
        "colab": {
          "base_uri": "https://localhost:8080/"
        },
        "outputId": "397fb940-54ec-4adf-d0d1-d7c823542170"
      },
      "execution_count": null,
      "outputs": [
        {
          "output_type": "stream",
          "name": "stdout",
          "text": [
            "Average Cross-Validation Accuracy: 0.9041666666666667\n",
            "Highest Cross-Validation Accuracy: 0.925\n"
          ]
        }
      ]
    },
    {
      "cell_type": "code",
      "source": [
        "max_cv_accuracy_scores = [0.925,92.5]"
      ],
      "metadata": {
        "id": "bd5OAnwWSPQL"
      },
      "execution_count": null,
      "outputs": []
    },
    {
      "cell_type": "code",
      "source": [
        "num_components = 50  # total comp=60\n",
        "pca = PCA(n_components=num_components)\n",
        "X_train_pca = pca.fit_transform(X_train)\n",
        "X_test_pca = pca.transform(X_test)\n",
        "\n",
        "# class-conditional likelihoods\n",
        "class_conditional_likelihoods = {}\n",
        "classes = y_train.unique()\n",
        "for class_label in classes:\n",
        "    class_conditional_likelihoods[class_label] = {}\n",
        "    X_class = X_train[y_train == class_label]\n",
        "    for feature in X_train.columns:\n",
        "        mean = X_class[feature].mean()\n",
        "        std = X_class[feature].std()\n",
        "        class_conditional_likelihoods[class_label][feature] = (mean, std)\n",
        "\n",
        "# Predict on the validation set\n",
        "y_val_pred = predict(X_test, class_conditional_likelihoods)\n",
        "\n",
        "# Calculate accuracy\n",
        "accuracy = accuracy_score(y_test, y_val_pred)\n",
        "\n",
        "print(\"Accuracy:\", accuracy)\n"
      ],
      "metadata": {
        "colab": {
          "base_uri": "https://localhost:8080/"
        },
        "id": "Ii6Mu4qqTNj4",
        "outputId": "ee699eeb-60a4-4c80-c4f6-53671787fe00"
      },
      "execution_count": null,
      "outputs": [
        {
          "output_type": "stream",
          "name": "stdout",
          "text": [
            "Accuracy: 0.9291666666666667\n"
          ]
        }
      ]
    }
  ]
}